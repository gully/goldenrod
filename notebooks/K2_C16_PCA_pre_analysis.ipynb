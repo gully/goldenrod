{
 "cells": [
  {
   "cell_type": "markdown",
   "metadata": {},
   "source": [
    "# Compute the Galaxy lightcurves assuming large mask\n",
    "\n",
    "### Save metadata\n",
    "\n",
    "Here we compute the galaxy lightcurves assuming a simple, large, mask we derive."
   ]
  },
  {
   "cell_type": "code",
   "execution_count": 15,
   "metadata": {
    "collapsed": true
   },
   "outputs": [],
   "source": [
    "# %load /Users/obsidian/Desktop/defaults.py\n",
    "import numpy as np\n",
    "%matplotlib inline\n",
    "%config InlineBackend.figure_format = 'retina'\n",
    "\n",
    "from lightkurve import KeplerTargetPixelFile\n",
    "import glob"
   ]
  },
  {
   "cell_type": "markdown",
   "metadata": {},
   "source": [
    "You'll need to download all the C16 data first:  \n",
    "`wget -r http://quicklook.keplerscience.org/c16-galaxies/`    \n",
    "\n",
    "\n",
    "Once you have that, assemble all the filenames into an iterable list."
   ]
  },
  {
   "cell_type": "code",
   "execution_count": 3,
   "metadata": {},
   "outputs": [
    {
     "data": {
      "text/plain": [
       "8380"
      ]
     },
     "execution_count": 3,
     "metadata": {},
     "output_type": "execute_result"
    }
   ],
   "source": [
    "fns = glob.glob('/Volumes/Truro/C16/quicklook.keplerscience.org/c16-galaxies/*.fits.gz')\n",
    "len(fns)"
   ]
  },
  {
   "cell_type": "markdown",
   "metadata": {
    "collapsed": true
   },
   "source": [
    "We could assemble an $n_{\\mathrm{cadence}} \\times n_{\\mathrm{tpfs}} = (3888 \\times 8380)$ array of lightcurves, then perform PCA.  \n",
    "\n",
    "Alternatively, we could also assemble subsets of PCA grouped by channels, since we anticipate that nearby lightcurves share similar motion-induced noise characteristics.\n",
    "\n",
    "Let's start with the \"full-focal-plane\" PCA first."
   ]
  },
  {
   "cell_type": "code",
   "execution_count": 4,
   "metadata": {
    "collapsed": true
   },
   "outputs": [],
   "source": [
    "n_tpfs = len(fns)\n",
    "n_cadences = 3888\n",
    "\n",
    "# x, y centroids and lightcurve flux\n",
    "x0s_array = np.zeros((n_cadences, n_tpfs))\n",
    "y0s_array = np.zeros((n_cadences, n_tpfs))\n",
    "lc_array = np.zeros((n_cadences, n_tpfs))\n",
    "sigma_clip_array = np.zeros((n_cadences, n_tpfs))\n",
    "\n",
    "# Channel and number of pixels in aperture and background\n",
    "n_pix_ap = np.zeros(n_tpfs)\n",
    "n_pix_bg = np.zeros(n_tpfs)\n",
    "ch_array = np.zeros(n_tpfs)\n",
    "\n",
    "#An array that tracks the TPFs that fail for any reason:\n",
    "fail_array = np.zeros(n_tpfs, dtype=np.bool)  "
   ]
  },
  {
   "cell_type": "code",
   "execution_count": 16,
   "metadata": {},
   "outputs": [],
   "source": [
    "cadn = np.arange(0, n_cadences, 1)"
   ]
  },
  {
   "cell_type": "markdown",
   "metadata": {},
   "source": [
    "First we simply need to acquire the lightcurves.  We only have TPFs available, so we need to pick a mask.  We're looking for *transients* that can occur anywhere in the galaxy's disk, so I recommend a **large** mask: all pixels except the edge pixels.  We will exclude pixels that were not downloaded (nan-everywhere)."
   ]
  },
  {
   "cell_type": "code",
   "execution_count": 7,
   "metadata": {
    "collapsed": true
   },
   "outputs": [],
   "source": [
    "from astropy.utils.console import ProgressBar"
   ]
  },
  {
   "cell_type": "code",
   "execution_count": 8,
   "metadata": {},
   "outputs": [
    {
     "data": {
      "application/vnd.jupyter.widget-view+json": {
       "model_id": "35899f068e4b4604a403257e957925fd",
       "version_major": 2,
       "version_minor": 0
      },
      "text/plain": [
       "A Jupyter Widget"
      ]
     },
     "metadata": {},
     "output_type": "display_data"
    },
    {
     "name": "stdout",
     "output_type": "stream",
     "text": [
      "\n",
      "CPU times: user 2h 15s, sys: 2min 40s, total: 2h 2min 55s\n",
      "Wall time: 46min 26s\n"
     ]
    }
   ],
   "source": [
    "%%time\n",
    "\n",
    "with ProgressBar(n_tpfs, ipython_widget=True) as bar:\n",
    "    for i,fn in enumerate(fns[0:n_tpfs]):\n",
    "        bar.update()\n",
    "        \n",
    "        try:\n",
    "            # Get x, y, centroids\n",
    "            tpf = KeplerTargetPixelFile(fn)\n",
    "            xs, ys = tpf.centroids(aperture_mask='all')\n",
    "            x0s_array[:, i] = xs\n",
    "            y0s_array[:, i] = ys\n",
    "\n",
    "            # Assemble mask\n",
    "            finite_mask = np.alltrue(tpf.flux==tpf.flux, axis=0)\n",
    "            core_mask = tpf.pipeline_mask * False\n",
    "            core_mask[1:-1, 1:-1] = True\n",
    "            core_mask = core_mask & finite_mask\n",
    "            bg_mask = tpf.pipeline_mask * False\n",
    "            bg_mask[0, :] = True\n",
    "            bg_mask[-1, :] = True\n",
    "            bg_mask[:, 0] = True\n",
    "            bg_mask[:, -1] = True\n",
    "            bg_mask = bg_mask & finite_mask\n",
    "            n_pix_ap[i] = core_mask.sum()\n",
    "            n_pix_bg[i] = bg_mask.sum()\n",
    "\n",
    "            # Compute the lightcurve\n",
    "            core_lc = tpf.to_lightcurve(aperture_mask=core_mask) / core_mask.sum()\n",
    "            bg_lc = tpf.to_lightcurve(aperture_mask=bg_mask) / bg_mask.sum()\n",
    "            target_lc = core_lc - bg_lc.flux\n",
    "            lc_array[:, i] = target_lc.flux\n",
    "            \n",
    "            # Identify routinely outlier flux cadences\n",
    "            _, outlier_mask_sigma_clip = target_lc.flatten().remove_outliers(return_mask=True, sigma=3)\n",
    "            sigma_clip_array[:, i] = outlier_mask_sigma_clip\n",
    "\n",
    "            ch_array[i] = tpf.channel\n",
    "        except:\n",
    "            print(\"{:04d} Fail\".format(i))\n",
    "            fail_array[i] = True"
   ]
  },
  {
   "cell_type": "code",
   "execution_count": 9,
   "metadata": {},
   "outputs": [
    {
     "data": {
      "text/plain": [
       "(3888, 8380)"
      ]
     },
     "execution_count": 9,
     "metadata": {},
     "output_type": "execute_result"
    }
   ],
   "source": [
    "lc_array.shape"
   ]
  },
  {
   "cell_type": "markdown",
   "metadata": {},
   "source": [
    "The results are $n_{\\mathrm{cadence}} \\times n_{\\mathrm{tpf}}$ arrays."
   ]
  },
  {
   "cell_type": "markdown",
   "metadata": {},
   "source": [
    "## Save the arrays locally for later use."
   ]
  },
  {
   "cell_type": "code",
   "execution_count": 17,
   "metadata": {
    "collapsed": true
   },
   "outputs": [],
   "source": [
    "#! mkdir ../data/C16_raw"
   ]
  },
  {
   "cell_type": "code",
   "execution_count": 13,
   "metadata": {
    "collapsed": true
   },
   "outputs": [],
   "source": [
    "np.save('../data/C16_raw/x0s_array.npy', x0s_array)\n",
    "np.save('../data/C16_raw/y0s_array.npy', y0s_array)\n",
    "np.save('../data/C16_raw/lc_array.npy', lc_array)\n",
    "np.save('../data/C16_raw/sigma_clip_array.npy', sigma_clip_array)\n",
    "np.save('../data/C16_raw/n_pix_ap.npy', n_pix_ap)\n",
    "np.save('../data/C16_raw/n_pix_bg.npy', n_pix_bg)\n",
    "np.save('../data/C16_raw/ch_array.npy', ch_array)\n",
    "np.save('../data/C16_raw/fail_array.npy', fail_array)"
   ]
  },
  {
   "cell_type": "markdown",
   "metadata": {},
   "source": [
    "The end!"
   ]
  }
 ],
 "metadata": {
  "kernelspec": {
   "display_name": "Python 3",
   "language": "python",
   "name": "python3"
  },
  "language_info": {
   "codemirror_mode": {
    "name": "ipython",
    "version": 3
   },
   "file_extension": ".py",
   "mimetype": "text/x-python",
   "name": "python",
   "nbconvert_exporter": "python",
   "pygments_lexer": "ipython3",
   "version": "3.6.3"
  }
 },
 "nbformat": 4,
 "nbformat_minor": 2
}

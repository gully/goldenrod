{
 "cells": [
  {
   "cell_type": "markdown",
   "metadata": {},
   "source": [
    "<!--BOOK_INFORMATION-->\n",
    "<img align=\"left\" style=\"padding-right:10px;\" src=\"figures/k2_pix_small.png\">\n",
    "*This notebook contains an excerpt instructional material from [gully](https://twitter.com/gully_) and the [K2 Guest Observer Office](https://keplerscience.arc.nasa.gov/); the content is available [on GitHub](https://github.com/gully/goldenrod).*\n"
   ]
  },
  {
   "cell_type": "markdown",
   "metadata": {},
   "source": [
    "<!--NAVIGATION-->\n",
    "< [Metadata and preliminaries](01.00-Metadata-and-preliminaries.ipynb) | [Contents](Index.ipynb) | [Custom tile target apertures on galaxies](01.02-Custom-tile-apertures-on-galaxies.ipynb) >"
   ]
  },
  {
   "cell_type": "markdown",
   "metadata": {},
   "source": [
    "# KEGS metadata and sample overview"
   ]
  },
  {
   "cell_type": "markdown",
   "metadata": {},
   "source": [
    "Most of the extragalactic data comes from the `KEGS` team Guest Observer proposals.  Information associated proposals is online and easily accesible.  We can find most galaxies just by searching the Kepler Science target proposals site titles including \"KEGS\".  This search process is non exhaustive, since other Guest Observer proposals targeting particular galaxies, e.g. for AGN, might escape such a simple search.\n",
    "\n",
    "Here is a list of KEGS programs targeting galaxies."
   ]
  },
  {
   "cell_type": "markdown",
   "metadata": {},
   "source": [
    "| Program | Description |\n",
    "|--|--|\n",
    "|GO0103| THE KEPLER EXTRA-GALACTIC SURVEY (KEGS): SUPERNOVAE, AGN, QSOS AND BL LACS |\n",
    "|GO1074| The Kepler Extra-Galactic Survey (KEGS) |\n",
    "|GO3048| The Kepler Extra-Galactic Survey (KEGS) Transient Survey; Campaign 3 |\n",
    "|GO4096| The K2 Extra-Galactic Survey (KEGS)Transient Survey; Cycle 1 |\n",
    "|GO5096| The K2 Extra-Galactic Survey (KEGS)Transient Survey; Cycle 1 |\n",
    "|GO6077| The K2 Extra-Galactic Survey (KEGS) Transient Survey |\n",
    "|GO8070| The K2 Extragalactic Survey (KEGS) for Transients |\n",
    "|GO8053| The K2 Extragalactic Survey (KEGS) in Nearby Galaxies: Cycle 3 |\n",
    "|GO10070| The K2 Extragalactic Survey (KEGS) for Transients |\n",
    "|GO10053| The K2 Extragalactic Survey (KEGS) in Nearby Galaxies: Cycle 3|\n",
    "|GO12116| The K2 Extragalactic Survey (KEGS) for Transients |\n",
    "|GO12068| The K2 Extragalactic Survey (KEGS) in Nearby Galaxies: Cycle 4|\n",
    "|GO14079| The K2 ExtraGalactic Survey (KEGS) for Transients |\n",
    "|GO14078| The K2 Extragalactic Survey (KEGS) in Nearby Galaxies: Cycle 5|"
   ]
  },
  {
   "cell_type": "markdown",
   "metadata": {},
   "source": [
    "Let's explore the metadata of these programs to understand what the data look like."
   ]
  },
  {
   "cell_type": "code",
   "execution_count": 1,
   "metadata": {
    "collapsed": true
   },
   "outputs": [],
   "source": [
    "import pandas as pd"
   ]
  },
  {
   "cell_type": "markdown",
   "metadata": {},
   "source": [
    "You will need the [k2-target-index repository](https://github.com/barentsen/k2-target-index) and [K2-metadata repository](https://github.com/gully/k2-metadata) saved locally on your computer.  You can adjust the paths to wherever you have them stored locally."
   ]
  },
  {
   "cell_type": "code",
   "execution_count": 2,
   "metadata": {
    "collapsed": true
   },
   "outputs": [],
   "source": [
    "targ_index_path = '../../k2-target-index/k2-target-pixel-files.csv.gz'\n",
    "K2_GO_metadata_path = '../../K2-metadata/metadata/tidy/GO_proposal_metadata.csv'"
   ]
  },
  {
   "cell_type": "markdown",
   "metadata": {},
   "source": [
    "The k2-target-index file is large enough to take a few seconds to read the whole thing with pandas."
   ]
  },
  {
   "cell_type": "code",
   "execution_count": 3,
   "metadata": {},
   "outputs": [
    {
     "name": "stdout",
     "output_type": "stream",
     "text": [
      "CPU times: user 12.6 s, sys: 927 ms, total: 13.5 s\n",
      "Wall time: 13 s\n"
     ]
    }
   ],
   "source": [
    "%time df_targ = pd.read_csv(targ_index_path)"
   ]
  },
  {
   "cell_type": "markdown",
   "metadata": {},
   "source": [
    "Sub-campaigns are sometimes indexed by strings (*e.g.* '9a' and '9b' or integers '91' and '92').  See section 1 of the [K2 Handbook](http://archive.stsci.edu/k2/manuals/k2_handbook.pdf) for more information about the campaign naming scheme. We'll rename one of the columns in anticipation of ambiguity..."
   ]
  },
  {
   "cell_type": "code",
   "execution_count": 4,
   "metadata": {
    "collapsed": true
   },
   "outputs": [],
   "source": [
    "df_targ.rename(columns={'campaign':'campaign_num'}, inplace=True)"
   ]
  },
  {
   "cell_type": "code",
   "execution_count": 5,
   "metadata": {},
   "outputs": [
    {
     "data": {
      "text/plain": [
       "(426130, 3)"
      ]
     },
     "execution_count": 5,
     "metadata": {},
     "output_type": "execute_result"
    }
   ],
   "source": [
    "df_GO = pd.read_csv(K2_GO_metadata_path, dtype={'campaign':str}, usecols=['EPIC ID','Investigation IDs', 'campaign'])\n",
    "df_GO.shape"
   ]
  },
  {
   "cell_type": "code",
   "execution_count": 6,
   "metadata": {},
   "outputs": [
    {
     "data": {
      "text/plain": [
       "Index(['EPIC ID', 'Investigation IDs', 'campaign'], dtype='object')"
      ]
     },
     "execution_count": 6,
     "metadata": {},
     "output_type": "execute_result"
    }
   ],
   "source": [
    "df_GO.columns"
   ]
  },
  {
   "cell_type": "markdown",
   "metadata": {},
   "source": [
    "The column `'Investigation IDs'` is a *pipe-delimited* list of the Guest Observer identifications of proposals."
   ]
  },
  {
   "cell_type": "code",
   "execution_count": 7,
   "metadata": {},
   "outputs": [
    {
     "data": {
      "text/plain": [
       "34010                         GO2054_LC|GO2104_LC\n",
       "34011                                   GO2051_LC\n",
       "34012                                   GO2051_LC\n",
       "34013     GO2054_LC|GO2080_LC|GO2101_LC|GO2104_LC\n",
       "34014                                   GO2069_LC\n",
       "Name: Investigation IDs, dtype: object"
      ]
     },
     "execution_count": 7,
     "metadata": {},
     "output_type": "execute_result"
    }
   ],
   "source": [
    "df_GO['Investigation IDs'].iloc[34010:34015]"
   ]
  },
  {
   "cell_type": "markdown",
   "metadata": {},
   "source": [
    "A straightforward pandas string search will yield a boolean series of whether the target was requested by KEGS."
   ]
  },
  {
   "cell_type": "code",
   "execution_count": 8,
   "metadata": {
    "collapsed": true
   },
   "outputs": [],
   "source": [
    "KEGS_ids = ['GO14078','GO14079','GO12068','GO12116','GO10053','GO10070',\n",
    "            'GO8053','GO8070','GO6077','GO5096','GO4096','GO3048','GO1074','GO0103']"
   ]
  },
  {
   "cell_type": "markdown",
   "metadata": {},
   "source": [
    "We will use a regular expression search pattern:"
   ]
  },
  {
   "cell_type": "code",
   "execution_count": 9,
   "metadata": {},
   "outputs": [
    {
     "data": {
      "text/plain": [
       "'GO14078|GO14079|GO12068|GO12116|GO10053|GO10070|GO8053|GO8070|GO6077|GO5096|GO4096|GO3048|GO1074|GO0103'"
      ]
     },
     "execution_count": 9,
     "metadata": {},
     "output_type": "execute_result"
    }
   ],
   "source": [
    "search_pattern = '|'.join(KEGS_ids)\n",
    "search_pattern"
   ]
  },
  {
   "cell_type": "markdown",
   "metadata": {},
   "source": [
    "The pipe symbols, `|` , in this search pattern are not matched; instead they represent an \"or\" operator, allowing a match to any of these substrings to register as \"`True`\"."
   ]
  },
  {
   "cell_type": "code",
   "execution_count": 10,
   "metadata": {
    "collapsed": true
   },
   "outputs": [],
   "source": [
    "df_GO['KEGS_target'] = df_GO['Investigation IDs'].str.contains(search_pattern)"
   ]
  },
  {
   "cell_type": "markdown",
   "metadata": {},
   "source": [
    "The sum of the boolean values tells us how many proposals were targeted by KEGS."
   ]
  },
  {
   "cell_type": "code",
   "execution_count": 11,
   "metadata": {},
   "outputs": [
    {
     "data": {
      "text/plain": [
       "40127"
      ]
     },
     "execution_count": 11,
     "metadata": {},
     "output_type": "execute_result"
    }
   ],
   "source": [
    "df_GO.KEGS_target.sum()"
   ]
  },
  {
   "cell_type": "markdown",
   "metadata": {},
   "source": [
    "Let's drop all the non-KEGS sources with a boolean mask."
   ]
  },
  {
   "cell_type": "code",
   "execution_count": 12,
   "metadata": {
    "collapsed": true
   },
   "outputs": [],
   "source": [
    "df_GO = df_GO[df_GO.KEGS_target]"
   ]
  },
  {
   "cell_type": "code",
   "execution_count": 13,
   "metadata": {},
   "outputs": [
    {
     "data": {
      "text/html": [
       "<div>\n",
       "<style>\n",
       "    .dataframe thead tr:only-child th {\n",
       "        text-align: right;\n",
       "    }\n",
       "\n",
       "    .dataframe thead th {\n",
       "        text-align: left;\n",
       "    }\n",
       "\n",
       "    .dataframe tbody tr th {\n",
       "        vertical-align: top;\n",
       "    }\n",
       "</style>\n",
       "<table border=\"1\" class=\"dataframe\">\n",
       "  <thead>\n",
       "    <tr style=\"text-align: right;\">\n",
       "      <th></th>\n",
       "      <th>EPIC ID</th>\n",
       "      <th>Investigation IDs</th>\n",
       "      <th>campaign</th>\n",
       "      <th>KEGS_target</th>\n",
       "    </tr>\n",
       "  </thead>\n",
       "  <tbody>\n",
       "    <tr>\n",
       "      <th>235</th>\n",
       "      <td>202059522</td>\n",
       "      <td>GO0009_LC|GO0035_LC|GO0061_LC|GO0074_LC|GO010...</td>\n",
       "      <td>0</td>\n",
       "      <td>True</td>\n",
       "    </tr>\n",
       "    <tr>\n",
       "      <th>252</th>\n",
       "      <td>202060054</td>\n",
       "      <td>GO0013_LC|GO0063_LC|GO0075_LC|GO0077_LC|GO010...</td>\n",
       "      <td>0</td>\n",
       "      <td>True</td>\n",
       "    </tr>\n",
       "    <tr>\n",
       "      <th>508</th>\n",
       "      <td>202062048</td>\n",
       "      <td>GO0035_LC|GO0103_LC|GO0106_LC</td>\n",
       "      <td>0</td>\n",
       "      <td>True</td>\n",
       "    </tr>\n",
       "    <tr>\n",
       "      <th>2667</th>\n",
       "      <td>202074356</td>\n",
       "      <td>GO0103_LC|GO0106_LC</td>\n",
       "      <td>0</td>\n",
       "      <td>True</td>\n",
       "    </tr>\n",
       "    <tr>\n",
       "      <th>2668</th>\n",
       "      <td>202074357</td>\n",
       "      <td>GO0103_LC|GO0106_LC</td>\n",
       "      <td>0</td>\n",
       "      <td>True</td>\n",
       "    </tr>\n",
       "  </tbody>\n",
       "</table>\n",
       "</div>"
      ],
      "text/plain": [
       "        EPIC ID                                  Investigation IDs campaign  \\\n",
       "235   202059522   GO0009_LC|GO0035_LC|GO0061_LC|GO0074_LC|GO010...        0   \n",
       "252   202060054   GO0013_LC|GO0063_LC|GO0075_LC|GO0077_LC|GO010...        0   \n",
       "508   202062048                      GO0035_LC|GO0103_LC|GO0106_LC        0   \n",
       "2667  202074356                                GO0103_LC|GO0106_LC        0   \n",
       "2668  202074357                                GO0103_LC|GO0106_LC        0   \n",
       "\n",
       "      KEGS_target  \n",
       "235          True  \n",
       "252          True  \n",
       "508          True  \n",
       "2667         True  \n",
       "2668         True  "
      ]
     },
     "execution_count": 13,
     "metadata": {},
     "output_type": "execute_result"
    }
   ],
   "source": [
    "df_GO.head()"
   ]
  },
  {
   "cell_type": "markdown",
   "metadata": {},
   "source": [
    "Let's merge the Guest Observer proposals with all the metadata about the targets."
   ]
  },
  {
   "cell_type": "code",
   "execution_count": 14,
   "metadata": {
    "collapsed": true
   },
   "outputs": [],
   "source": [
    "df_comb = pd.merge(df_GO, df_targ, how='left', left_on='EPIC ID', right_on='keplerid')"
   ]
  },
  {
   "cell_type": "code",
   "execution_count": 15,
   "metadata": {},
   "outputs": [
    {
     "data": {
      "text/plain": [
       "(14640, 30399)"
      ]
     },
     "execution_count": 15,
     "metadata": {},
     "output_type": "execute_result"
    }
   ],
   "source": [
    "df_comb.keplerid.isnull().sum(), df_comb.keplerid.notnull().sum()"
   ]
  },
  {
   "cell_type": "markdown",
   "metadata": {},
   "source": [
    "Some KEGS galaxies are not in the K2 target index, mainly because campaign 14 was not yet processesed at the time the k2-target-index was created.  Some also have custom large apertures that might affect the TPF metadata."
   ]
  },
  {
   "cell_type": "code",
   "execution_count": 16,
   "metadata": {},
   "outputs": [
    {
     "data": {
      "text/plain": [
       "campaign\n",
       "0       106.0\n",
       "1      2985.0\n",
       "3      4144.0\n",
       "4       761.0\n",
       "5      2801.0\n",
       "6      4680.0\n",
       "8      2661.0\n",
       "10     4892.0\n",
       "12     2457.0\n",
       "14    14640.0\n",
       "Name: KEGS_target, dtype: float64"
      ]
     },
     "execution_count": 16,
     "metadata": {},
     "output_type": "execute_result"
    }
   ],
   "source": [
    "df_GO.groupby('campaign').KEGS_target.sum()[df_GO.campaign.unique()]"
   ]
  },
  {
   "cell_type": "code",
   "execution_count": 17,
   "metadata": {},
   "outputs": [
    {
     "data": {
      "text/plain": [
       "campaign_num\n",
       "0.0       106.0\n",
       "1.0      2987.0\n",
       "3.0      4144.0\n",
       "4.0       762.0\n",
       "5.0      2802.0\n",
       "6.0      4680.0\n",
       "8.0      2661.0\n",
       "12.0     2457.0\n",
       "13.0        5.0\n",
       "101.0    4898.0\n",
       "102.0    4897.0\n",
       "Name: KEGS_target, dtype: float64"
      ]
     },
     "execution_count": 17,
     "metadata": {},
     "output_type": "execute_result"
    }
   ],
   "source": [
    "df_comb.groupby('campaign_num').KEGS_target.sum()"
   ]
  },
  {
   "cell_type": "markdown",
   "metadata": {},
   "source": [
    "Slight differences, but mainly the same.  Campaign 14 is not yet in our target index."
   ]
  },
  {
   "cell_type": "markdown",
   "metadata": {},
   "source": [
    "Let's see how the KEGS targets compare to typical K2 targets in terms of number of pixels and target magnitude."
   ]
  },
  {
   "cell_type": "code",
   "execution_count": 18,
   "metadata": {
    "collapsed": true
   },
   "outputs": [],
   "source": [
    "import matplotlib.pyplot as plt\n",
    "import numpy as np\n",
    "from astropy.io import fits\n",
    "%matplotlib inline\n",
    "%config InlineBackend.figure_format = 'retina'"
   ]
  },
  {
   "cell_type": "code",
   "execution_count": 19,
   "metadata": {},
   "outputs": [
    {
     "data": {
      "text/plain": [
       "121.0"
      ]
     },
     "execution_count": 19,
     "metadata": {},
     "output_type": "execute_result"
    }
   ],
   "source": [
    "df_comb.npix.median()"
   ]
  },
  {
   "cell_type": "markdown",
   "metadata": {},
   "source": [
    "The typical KEGS target has about 121 pixels.  \n",
    "However, this estimate could include \"tiles\" designed for extending large patches of pixels on oversized galaxies."
   ]
  },
  {
   "cell_type": "code",
   "execution_count": 20,
   "metadata": {},
   "outputs": [
    {
     "data": {
      "image/png": "[encoded data removed]",
      "text/plain": [
       "<matplotlib.figure.Figure at 0x3097be780>"
      ]
     },
     "metadata": {
      "image/png": {
       "height": 265,
       "width": 399
      }
     },
     "output_type": "display_data"
    }
   ],
   "source": [
    "plt.hist(df_targ.npix[df_targ.npix.notnull()], bins=np.arange(0,2500, 100), label='All K2')\n",
    "plt.hist(df_comb.npix[df_comb.npix.notnull()], bins=np.arange(0,2500, 100), label='KEGS')\n",
    "plt.yscale('log')\n",
    "plt.xlabel('$N$ pixels in TPF')\n",
    "plt.ylabel('$N$ targets')\n",
    "plt.axvline(200, color='k')\n",
    "plt.legend();"
   ]
  },
  {
   "cell_type": "code",
   "execution_count": 21,
   "metadata": {},
   "outputs": [
    {
     "data": {
      "text/plain": [
       "long cadence     30397\n",
       "short cadence        2\n",
       "Name: obsmode, dtype: int64"
      ]
     },
     "execution_count": 21,
     "metadata": {},
     "output_type": "execute_result"
    }
   ],
   "source": [
    "df_comb.obsmode.value_counts()"
   ]
  },
  {
   "cell_type": "markdown",
   "metadata": {},
   "source": [
    "There are aparently 2 galaxies that received short cadence observations."
   ]
  },
  {
   "cell_type": "code",
   "execution_count": 22,
   "metadata": {},
   "outputs": [
    {
     "data": {
      "text/plain": [
       "array([' GO4102_SC|GO4029_LC|GO4096_LC|GO4102_LC',\n",
       "       ' GO5038_SC|GO5053_LC|GO5056_LC|GO5096_LC|GO5038_LC'], dtype=object)"
      ]
     },
     "execution_count": 22,
     "metadata": {},
     "output_type": "execute_result"
    }
   ],
   "source": [
    "df_comb[df_comb.obsmode == 'short cadence']['Investigation IDs'].values"
   ]
  },
  {
   "cell_type": "markdown",
   "metadata": {},
   "source": [
    "One (EPIC 210510422) is from a proposal to study M dwarfs (GO4102)... what!?  \n",
    "The other is from an AGN proposal (GO5038_SC), aimed at the \"rapidly-variable blazar OJ 287\".\n",
    "\n",
    "What's the deal with the M dwarf??"
   ]
  },
  {
   "cell_type": "code",
   "execution_count": 24,
   "metadata": {},
   "outputs": [
    {
     "data": {
      "text/html": [
       "<div>\n",
       "<style>\n",
       "    .dataframe thead tr:only-child th {\n",
       "        text-align: right;\n",
       "    }\n",
       "\n",
       "    .dataframe thead th {\n",
       "        text-align: left;\n",
       "    }\n",
       "\n",
       "    .dataframe tbody tr th {\n",
       "        vertical-align: top;\n",
       "    }\n",
       "</style>\n",
       "<table border=\"1\" class=\"dataframe\">\n",
       "  <thead>\n",
       "    <tr style=\"text-align: right;\">\n",
       "      <th></th>\n",
       "      <th>7485</th>\n",
       "      <th>7486</th>\n",
       "    </tr>\n",
       "  </thead>\n",
       "  <tbody>\n",
       "    <tr>\n",
       "      <th>EPIC ID</th>\n",
       "      <td>210510422</td>\n",
       "      <td>210510422</td>\n",
       "    </tr>\n",
       "    <tr>\n",
       "      <th>Investigation IDs</th>\n",
       "      <td>GO4102_SC|GO4029_LC|GO4096_LC|GO4102_LC</td>\n",
       "      <td>GO4102_SC|GO4029_LC|GO4096_LC|GO4102_LC</td>\n",
       "    </tr>\n",
       "    <tr>\n",
       "      <th>campaign</th>\n",
       "      <td>4</td>\n",
       "      <td>4</td>\n",
       "    </tr>\n",
       "    <tr>\n",
       "      <th>KEGS_target</th>\n",
       "      <td>True</td>\n",
       "      <td>True</td>\n",
       "    </tr>\n",
       "    <tr>\n",
       "      <th>filename</th>\n",
       "      <td>ktwo210510422-c04_spd-targ.fits.gz</td>\n",
       "      <td>ktwo210510422-c04_lpd-targ.fits.gz</td>\n",
       "    </tr>\n",
       "    <tr>\n",
       "      <th>url</th>\n",
       "      <td>http://archive.stsci.edu/missions/k2/target_pi...</td>\n",
       "      <td>http://archive.stsci.edu/missions/k2/target_pi...</td>\n",
       "    </tr>\n",
       "    <tr>\n",
       "      <th>filesize</th>\n",
       "      <td>892.4</td>\n",
       "      <td>30.7</td>\n",
       "    </tr>\n",
       "    <tr>\n",
       "      <th>object</th>\n",
       "      <td>EPIC 210510422</td>\n",
       "      <td>EPIC 210510422</td>\n",
       "    </tr>\n",
       "    <tr>\n",
       "      <th>keplerid</th>\n",
       "      <td>2.1051e+08</td>\n",
       "      <td>2.1051e+08</td>\n",
       "    </tr>\n",
       "    <tr>\n",
       "      <th>obsmode</th>\n",
       "      <td>short cadence</td>\n",
       "      <td>long cadence</td>\n",
       "    </tr>\n",
       "    <tr>\n",
       "      <th>campaign_num</th>\n",
       "      <td>4</td>\n",
       "      <td>4</td>\n",
       "    </tr>\n",
       "    <tr>\n",
       "      <th>data_rel</th>\n",
       "      <td>6</td>\n",
       "      <td>6</td>\n",
       "    </tr>\n",
       "    <tr>\n",
       "      <th>channel</th>\n",
       "      <td>57</td>\n",
       "      <td>57</td>\n",
       "    </tr>\n",
       "    <tr>\n",
       "      <th>module</th>\n",
       "      <td>17</td>\n",
       "      <td>17</td>\n",
       "    </tr>\n",
       "    <tr>\n",
       "      <th>output</th>\n",
       "      <td>1</td>\n",
       "      <td>1</td>\n",
       "    </tr>\n",
       "    <tr>\n",
       "      <th>ra_obj</th>\n",
       "      <td>57.2204</td>\n",
       "      <td>57.2204</td>\n",
       "    </tr>\n",
       "    <tr>\n",
       "      <th>dec_obj</th>\n",
       "      <td>15.5858</td>\n",
       "      <td>15.5858</td>\n",
       "    </tr>\n",
       "    <tr>\n",
       "      <th>kepmag</th>\n",
       "      <td>8.37</td>\n",
       "      <td>8.37</td>\n",
       "    </tr>\n",
       "    <tr>\n",
       "      <th>cadences</th>\n",
       "      <td>104100</td>\n",
       "      <td>3470</td>\n",
       "    </tr>\n",
       "    <tr>\n",
       "      <th>lc_start</th>\n",
       "      <td>57061.3</td>\n",
       "      <td>57061.3</td>\n",
       "    </tr>\n",
       "    <tr>\n",
       "      <th>lc_end</th>\n",
       "      <td>57132.2</td>\n",
       "      <td>57132.2</td>\n",
       "    </tr>\n",
       "    <tr>\n",
       "      <th>gain</th>\n",
       "      <td>117.09</td>\n",
       "      <td>117.09</td>\n",
       "    </tr>\n",
       "    <tr>\n",
       "      <th>readnois</th>\n",
       "      <td>86.1665</td>\n",
       "      <td>86.1665</td>\n",
       "    </tr>\n",
       "    <tr>\n",
       "      <th>meanblck</th>\n",
       "      <td>731</td>\n",
       "      <td>731</td>\n",
       "    </tr>\n",
       "    <tr>\n",
       "      <th>cdpp3_0</th>\n",
       "      <td>NaN</td>\n",
       "      <td>104.367</td>\n",
       "    </tr>\n",
       "    <tr>\n",
       "      <th>cdpp6_0</th>\n",
       "      <td>NaN</td>\n",
       "      <td>95.2014</td>\n",
       "    </tr>\n",
       "    <tr>\n",
       "      <th>cdpp12_0</th>\n",
       "      <td>NaN</td>\n",
       "      <td>89.6413</td>\n",
       "    </tr>\n",
       "    <tr>\n",
       "      <th>npix</th>\n",
       "      <td>565</td>\n",
       "      <td>565</td>\n",
       "    </tr>\n",
       "    <tr>\n",
       "      <th>naxis1</th>\n",
       "      <td>15</td>\n",
       "      <td>15</td>\n",
       "    </tr>\n",
       "    <tr>\n",
       "      <th>naxis2</th>\n",
       "      <td>44</td>\n",
       "      <td>44</td>\n",
       "    </tr>\n",
       "    <tr>\n",
       "      <th>crpix1</th>\n",
       "      <td>8.15567</td>\n",
       "      <td>8.15561</td>\n",
       "    </tr>\n",
       "    <tr>\n",
       "      <th>crpix2</th>\n",
       "      <td>22.6565</td>\n",
       "      <td>22.6564</td>\n",
       "    </tr>\n",
       "    <tr>\n",
       "      <th>crval1</th>\n",
       "      <td>57.2204</td>\n",
       "      <td>57.2204</td>\n",
       "    </tr>\n",
       "    <tr>\n",
       "      <th>crval2</th>\n",
       "      <td>15.5858</td>\n",
       "      <td>15.5858</td>\n",
       "    </tr>\n",
       "    <tr>\n",
       "      <th>cdelt1</th>\n",
       "      <td>-0.00110612</td>\n",
       "      <td>-0.00110612</td>\n",
       "    </tr>\n",
       "    <tr>\n",
       "      <th>cdelt2</th>\n",
       "      <td>0.00110612</td>\n",
       "      <td>0.00110612</td>\n",
       "    </tr>\n",
       "    <tr>\n",
       "      <th>pc1_1</th>\n",
       "      <td>-0.901374</td>\n",
       "      <td>-0.901374</td>\n",
       "    </tr>\n",
       "    <tr>\n",
       "      <th>pc1_2</th>\n",
       "      <td>-0.435965</td>\n",
       "      <td>-0.435965</td>\n",
       "    </tr>\n",
       "    <tr>\n",
       "      <th>pc2_1</th>\n",
       "      <td>0.435384</td>\n",
       "      <td>0.435384</td>\n",
       "    </tr>\n",
       "    <tr>\n",
       "      <th>pc2_2</th>\n",
       "      <td>-0.898837</td>\n",
       "      <td>-0.898837</td>\n",
       "    </tr>\n",
       "    <tr>\n",
       "      <th>crval1p</th>\n",
       "      <td>1044</td>\n",
       "      <td>1044</td>\n",
       "    </tr>\n",
       "    <tr>\n",
       "      <th>crval2p</th>\n",
       "      <td>290</td>\n",
       "      <td>290</td>\n",
       "    </tr>\n",
       "    <tr>\n",
       "      <th>corners</th>\n",
       "      <td>57.201422,15.604141;57.223451,15.560396;57.238...</td>\n",
       "      <td>57.201422,15.604141;57.223451,15.560396;57.238...</td>\n",
       "    </tr>\n",
       "    <tr>\n",
       "      <th>ra_min</th>\n",
       "      <td>57.2014</td>\n",
       "      <td>57.2014</td>\n",
       "    </tr>\n",
       "    <tr>\n",
       "      <th>ra_max</th>\n",
       "      <td>57.239</td>\n",
       "      <td>57.239</td>\n",
       "    </tr>\n",
       "    <tr>\n",
       "      <th>dec_min</th>\n",
       "      <td>15.5604</td>\n",
       "      <td>15.5604</td>\n",
       "    </tr>\n",
       "    <tr>\n",
       "      <th>dec_max</th>\n",
       "      <td>15.6114</td>\n",
       "      <td>15.6114</td>\n",
       "    </tr>\n",
       "  </tbody>\n",
       "</table>\n",
       "</div>"
      ],
      "text/plain": [
       "                                                                7485  \\\n",
       "EPIC ID                                                    210510422   \n",
       "Investigation IDs            GO4102_SC|GO4029_LC|GO4096_LC|GO4102_LC   \n",
       "campaign                                                           4   \n",
       "KEGS_target                                                     True   \n",
       "filename                          ktwo210510422-c04_spd-targ.fits.gz   \n",
       "url                http://archive.stsci.edu/missions/k2/target_pi...   \n",
       "filesize                                                       892.4   \n",
       "object                                                EPIC 210510422   \n",
       "keplerid                                                  2.1051e+08   \n",
       "obsmode                                                short cadence   \n",
       "campaign_num                                                       4   \n",
       "data_rel                                                           6   \n",
       "channel                                                           57   \n",
       "module                                                            17   \n",
       "output                                                             1   \n",
       "ra_obj                                                       57.2204   \n",
       "dec_obj                                                      15.5858   \n",
       "kepmag                                                          8.37   \n",
       "cadences                                                      104100   \n",
       "lc_start                                                     57061.3   \n",
       "lc_end                                                       57132.2   \n",
       "gain                                                          117.09   \n",
       "readnois                                                     86.1665   \n",
       "meanblck                                                         731   \n",
       "cdpp3_0                                                          NaN   \n",
       "cdpp6_0                                                          NaN   \n",
       "cdpp12_0                                                         NaN   \n",
       "npix                                                             565   \n",
       "naxis1                                                            15   \n",
       "naxis2                                                            44   \n",
       "crpix1                                                       8.15567   \n",
       "crpix2                                                       22.6565   \n",
       "crval1                                                       57.2204   \n",
       "crval2                                                       15.5858   \n",
       "cdelt1                                                   -0.00110612   \n",
       "cdelt2                                                    0.00110612   \n",
       "pc1_1                                                      -0.901374   \n",
       "pc1_2                                                      -0.435965   \n",
       "pc2_1                                                       0.435384   \n",
       "pc2_2                                                      -0.898837   \n",
       "crval1p                                                         1044   \n",
       "crval2p                                                          290   \n",
       "corners            57.201422,15.604141;57.223451,15.560396;57.238...   \n",
       "ra_min                                                       57.2014   \n",
       "ra_max                                                        57.239   \n",
       "dec_min                                                      15.5604   \n",
       "dec_max                                                      15.6114   \n",
       "\n",
       "                                                                7486  \n",
       "EPIC ID                                                    210510422  \n",
       "Investigation IDs            GO4102_SC|GO4029_LC|GO4096_LC|GO4102_LC  \n",
       "campaign                                                           4  \n",
       "KEGS_target                                                     True  \n",
       "filename                          ktwo210510422-c04_lpd-targ.fits.gz  \n",
       "url                http://archive.stsci.edu/missions/k2/target_pi...  \n",
       "filesize                                                        30.7  \n",
       "object                                                EPIC 210510422  \n",
       "keplerid                                                  2.1051e+08  \n",
       "obsmode                                                 long cadence  \n",
       "campaign_num                                                       4  \n",
       "data_rel                                                           6  \n",
       "channel                                                           57  \n",
       "module                                                            17  \n",
       "output                                                             1  \n",
       "ra_obj                                                       57.2204  \n",
       "dec_obj                                                      15.5858  \n",
       "kepmag                                                          8.37  \n",
       "cadences                                                        3470  \n",
       "lc_start                                                     57061.3  \n",
       "lc_end                                                       57132.2  \n",
       "gain                                                          117.09  \n",
       "readnois                                                     86.1665  \n",
       "meanblck                                                         731  \n",
       "cdpp3_0                                                      104.367  \n",
       "cdpp6_0                                                      95.2014  \n",
       "cdpp12_0                                                     89.6413  \n",
       "npix                                                             565  \n",
       "naxis1                                                            15  \n",
       "naxis2                                                            44  \n",
       "crpix1                                                       8.15561  \n",
       "crpix2                                                       22.6564  \n",
       "crval1                                                       57.2204  \n",
       "crval2                                                       15.5858  \n",
       "cdelt1                                                   -0.00110612  \n",
       "cdelt2                                                    0.00110612  \n",
       "pc1_1                                                      -0.901374  \n",
       "pc1_2                                                      -0.435965  \n",
       "pc2_1                                                       0.435384  \n",
       "pc2_2                                                      -0.898837  \n",
       "crval1p                                                         1044  \n",
       "crval2p                                                          290  \n",
       "corners            57.201422,15.604141;57.223451,15.560396;57.238...  \n",
       "ra_min                                                       57.2014  \n",
       "ra_max                                                        57.239  \n",
       "dec_min                                                      15.5604  \n",
       "dec_max                                                      15.6114  "
      ]
     },
     "execution_count": 24,
     "metadata": {},
     "output_type": "execute_result"
    }
   ],
   "source": [
    "df_comb[df_comb['EPIC ID'] == 210510422].T"
   ]
  },
  {
   "cell_type": "markdown",
   "metadata": {},
   "source": [
    "It's a bright, nearby M dwarf, and appears to have no galaxy near it at all!  Perhaps the KEGS team put the target on accidentally, or for purposes of calibration."
   ]
  },
  {
   "cell_type": "markdown",
   "metadata": {},
   "source": [
    "`210510422, 57.220444, 15.5858, 8.37, GO4102_SC|GO4029_LC|GO4096_LC|GO4102_LC`"
   ]
  },
  {
   "cell_type": "markdown",
   "metadata": {},
   "source": [
    "What's the distribution of Kepmag for KEGS sources?"
   ]
  },
  {
   "cell_type": "code",
   "execution_count": 25,
   "metadata": {},
   "outputs": [
    {
     "data": {
      "image/png": "[encoded data removed]",
      "text/plain": [
       "<matplotlib.figure.Figure at 0x8129beba8>"
      ]
     },
     "metadata": {
      "image/png": {
       "height": 263,
       "width": 375
      }
     },
     "output_type": "display_data"
    }
   ],
   "source": [
    "plt.hist(df_targ.kepmag[df_targ.kepmag.notnull()], bins=np.arange(8,21, 0.2), label='All K2')\n",
    "plt.hist(df_comb.kepmag[df_comb.kepmag.notnull()], bins=np.arange(8,21, 0.2), label='KEGS')\n",
    "plt.yscale('log')\n",
    "plt.xlabel('Kepler mag')\n",
    "plt.legend();"
   ]
  },
  {
   "cell_type": "markdown",
   "metadata": {},
   "source": [
    "KEGS targets tend to be fainter than the typical K2 target, but they're also *extended* compared to stellar targets..."
   ]
  },
  {
   "cell_type": "markdown",
   "metadata": {},
   "source": [
    "<!--NAVIGATION-->\n",
    "< [Metadata and preliminaries](01.00-Metadata-and-preliminaries.ipynb) | [Contents](Index.ipynb) | [Custom tile target apertures on galaxies](01.02-Custom-tile-apertures-on-galaxies.ipynb) >"
   ]
  }
 ],
 "metadata": {
  "kernelspec": {
   "display_name": "Python 3",
   "language": "python",
   "name": "python3"
  },
  "language_info": {
   "codemirror_mode": {
    "name": "ipython",
    "version": 3
   },
   "file_extension": ".py",
   "mimetype": "text/x-python",
   "name": "python",
   "nbconvert_exporter": "python",
   "pygments_lexer": "ipython3",
   "version": "3.6.2"
  }
 },
 "nbformat": 4,
 "nbformat_minor": 2
}
